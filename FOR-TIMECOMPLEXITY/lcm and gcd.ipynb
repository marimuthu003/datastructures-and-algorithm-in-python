def gcd(a,b):
    while b:
        a,b=b,a%b
result=gcd(4,6)
print(result)