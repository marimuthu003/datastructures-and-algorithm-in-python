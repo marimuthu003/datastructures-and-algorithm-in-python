{
 "cells": [
  {
   "cell_type": "code",
   "execution_count": 6,
   "metadata": {},
   "outputs": [
    {
     "name": "stdout",
     "output_type": "stream",
     "text": [
      "fibonacci sequence of 5 is 3\n"
     ]
    }
   ],
   "source": [
    "def fib(n):\n",
    "    #base case\n",
    "    if n<=1:\n",
    "        return n\n",
    "    f1=0\n",
    "    f2=1\n",
    "    for i in range(2,n):\n",
    "        f=f1+f2\n",
    "        f1=f2\n",
    "        f2=f\n",
    "    return f\n",
    "if __name__=='__main__':\n",
    "    n=int(input(\"enter the number:\"))\n",
    "    result=fib(n)\n",
    "    print(f'fibonacci sequence of {n} is {result}')"
   ]
  },
  {
   "cell_type": "code",
   "execution_count": 7,
   "metadata": {},
   "outputs": [
    {
     "name": "stdout",
     "output_type": "stream",
     "text": [
      "fibonacci sequence of 8 is 21\n"
     ]
    }
   ],
   "source": [
    "#using recursion\n",
    "def fib(n):\n",
    "    #base case\n",
    "    if n<=1:\n",
    "        return n\n",
    "    else:\n",
    "        return fib(n-1)+fib(n-2)\n",
    "if __name__=='__main__':\n",
    "    n=int(input(\"enter the number:\"))\n",
    "    result=fib(n)\n",
    "    print(f'fibonacci sequence of {n} is {result}')\n",
    "    "
   ]
  },
  {
   "cell_type": "code",
   "execution_count": 11,
   "metadata": {},
   "outputs": [
    {
     "name": "stdout",
     "output_type": "stream",
     "text": [
      "0\n",
      "1\n",
      "1\n",
      "2\n",
      "3\n",
      "fibonacci sequence of 5 is 3\n"
     ]
    }
   ],
   "source": [
    "def fib(n):\n",
    "    f1=-1\n",
    "    f2=1\n",
    "    for i in range(n):\n",
    "        f=f1+f2\n",
    "        print(f)\n",
    "        f1=f2\n",
    "        f2=f\n",
    "    return f\n",
    "if __name__=='__main__':\n",
    "    n=int(input(\"enter the number:\"))\n",
    "    result=fib(n)\n",
    "    print(f'fibonacci sequence of {n} is {result}')"
   ]
  },
  {
   "cell_type": "code",
   "execution_count": null,
   "metadata": {},
   "outputs": [],
   "source": []
  }
 ],
 "metadata": {
  "kernelspec": {
   "display_name": "Python 3",
   "language": "python",
   "name": "python3"
  },
  "language_info": {
   "codemirror_mode": {
    "name": "ipython",
    "version": 3
   },
   "file_extension": ".py",
   "mimetype": "text/x-python",
   "name": "python",
   "nbconvert_exporter": "python",
   "pygments_lexer": "ipython3",
   "version": "3.12.1"
  }
 },
 "nbformat": 4,
 "nbformat_minor": 2
}
