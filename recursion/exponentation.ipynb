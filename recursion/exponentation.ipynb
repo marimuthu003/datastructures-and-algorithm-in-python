{
 "cells": [
  {
   "cell_type": "code",
   "execution_count": null,
   "metadata": {},
   "outputs": [],
   "source": [
    "#normal execution:\n",
    "def expo(x,n):\n",
    "    if n==0:\n",
    "        return 1\n",
    "    else:\n",
    "        for i in range(n):\n",
    "            r=x*pow(x,n-1)\n",
    "        return r\n",
    "if __name__=='__main__':\n",
    "    n=5\n",
    "    x=2\n",
    "result=expo(x,n)\n",
    "print(result)\n"
   ]
  },
  {
   "cell_type": "code",
   "execution_count": 12,
   "metadata": {},
   "outputs": [
    {
     "name": "stdout",
     "output_type": "stream",
     "text": [
      "32\n"
     ]
    }
   ],
   "source": [
    "def expo(x,n):\n",
    "    if n==0:\n",
    "        return 1\n",
    "    else:\n",
    "        return x*expo(x,n-1)\n",
    "if __name__=='__main__':\n",
    "    n=5\n",
    "    x=2\n",
    "result=expo(x,n)\n",
    "print(result)\n"
   ]
  },
  {
   "cell_type": "code",
   "execution_count": 13,
   "metadata": {},
   "outputs": [
    {
     "name": "stdout",
     "output_type": "stream",
     "text": [
      "128\n"
     ]
    }
   ],
   "source": [
    "#another method for even and odd n:\n",
    "def pow(x,n):\n",
    "    if n==0:\n",
    "        return 1\n",
    "    elif n%2==0:\n",
    "        y=pow(x,n/2)\n",
    "        return y*y\n",
    "    else:\n",
    "        return x*pow(x,n-1)\n",
    "if __name__=='__main__':\n",
    "    n=7\n",
    "    x=2\n",
    "result=expo(x,n)\n",
    "print(result)\n"
   ]
  },
  {
   "cell_type": "code",
   "execution_count": 14,
   "metadata": {},
   "outputs": [
    {
     "name": "stdout",
     "output_type": "stream",
     "text": [
      "2\n"
     ]
    }
   ],
   "source": [
    "#modular exponentation:\n",
    "\n",
    "def mod(x,n,m):\n",
    "    if n==0:\n",
    "        return 1\n",
    "    elif n%2==0:\n",
    "        y=mod(x,n/2,m)\n",
    "        return (y*y)%m\n",
    "    else:\n",
    "        return ((x%m)*mod(x,n-1,m))%m\n",
    "    \n",
    "if __name__=='__main__':\n",
    "    n=7\n",
    "    x=5\n",
    "    m=3\n",
    "result=mod(x,n,m)\n",
    "print(result)\n"
   ]
  }
 ],
 "metadata": {
  "kernelspec": {
   "display_name": "Python 3",
   "language": "python",
   "name": "python3"
  },
  "language_info": {
   "codemirror_mode": {
    "name": "ipython",
    "version": 3
   },
   "file_extension": ".py",
   "mimetype": "text/x-python",
   "name": "python",
   "nbconvert_exporter": "python",
   "pygments_lexer": "ipython3",
   "version": "3.12.1"
  }
 },
 "nbformat": 4,
 "nbformat_minor": 2
}
