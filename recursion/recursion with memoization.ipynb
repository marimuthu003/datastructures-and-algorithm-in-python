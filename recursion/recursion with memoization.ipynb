{
 "cells": [
  {
   "cell_type": "code",
   "execution_count": 24,
   "metadata": {},
   "outputs": [
    {
     "name": "stdout",
     "output_type": "stream",
     "text": [
      "Fibonacci sequence of 5 is 5\n"
     ]
    }
   ],
   "source": [
    "def fib(n, f=None):\n",
    "    # base cases:\n",
    "    if f is None:\n",
    "        f=[-1]*(n+1)\n",
    "    if n <= 1:\n",
    "        return n\n",
    "    elif f[n] != -1:\n",
    "        return f[n]\n",
    "\n",
    "    f[n] = fib(n-1, f) + fib(n-2, f)\n",
    "    return f[n]\n",
    "\n",
    "if __name__ == '__main__':\n",
    "    n = 5\n",
    "    result = fib(n)\n",
    "    print(f'Fibonacci sequence of {n} is {result}')\n"
   ]
  },
  {
   "cell_type": "code",
   "execution_count": 29,
   "metadata": {},
   "outputs": [
    {
     "name": "stdout",
     "output_type": "stream",
     "text": [
      "Fibonacci sequence of 8 is 21\n"
     ]
    }
   ],
   "source": [
    "def fib(n):\n",
    "    f = [-1] * (n + 1)\n",
    "\n",
    "    def fib_inner(k):\n",
    "        if k <= 1:\n",
    "            return k\n",
    "        elif f[k] != -1:\n",
    "            return f[k]\n",
    "\n",
    "        f[k] = fib_inner(k - 1) + fib_inner(k - 2)\n",
    "        return f[k]\n",
    "\n",
    "    return fib_inner(n)\n",
    "\n",
    "if __name__ == '__main__':\n",
    "    n = 8\n",
    "    result = fib(n)\n",
    "    print(f'Fibonacci sequence of {n} is {result}')\n"
   ]
  },
  {
   "cell_type": "code",
   "execution_count": 30,
   "metadata": {},
   "outputs": [
    {
     "name": "stdout",
     "output_type": "stream",
     "text": [
      "Fibonacci sequence of 5 is 5\n"
     ]
    }
   ],
   "source": [
    "def fib(n, f):\n",
    "    # base cases:\n",
    "    if n <= 1:\n",
    "        return n\n",
    "    elif f[n] != -1:\n",
    "        return f[n]\n",
    "\n",
    "    f[n] = fib(n-1, f) + fib(n-2, f)\n",
    "    return f[n]\n",
    "\n",
    "if __name__ == '__main__':\n",
    "    n = 5\n",
    "    f = [-1] * (n + 1)  # Initialize the memoization list with -1\n",
    "    result = fib(n, f)\n",
    "    print(f'Fibonacci sequence of {n} is {result}')\n"
   ]
  },
  {
   "cell_type": "code",
   "execution_count": null,
   "metadata": {},
   "outputs": [],
   "source": []
  }
 ],
 "metadata": {
  "kernelspec": {
   "display_name": "Python 3",
   "language": "python",
   "name": "python3"
  },
  "language_info": {
   "codemirror_mode": {
    "name": "ipython",
    "version": 3
   },
   "file_extension": ".py",
   "mimetype": "text/x-python",
   "name": "python",
   "nbconvert_exporter": "python",
   "pygments_lexer": "ipython3",
   "version": "3.12.1"
  }
 },
 "nbformat": 4,
 "nbformat_minor": 2
}
