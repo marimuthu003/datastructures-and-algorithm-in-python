{
 "cells": [
  {
   "cell_type": "code",
   "execution_count": 2,
   "metadata": {},
   "outputs": [
    {
     "name": "stdout",
     "output_type": "stream",
     "text": [
      "* * * * * * * * * \n",
      "  * * * * * * * \n",
      "    * * * * * \n",
      "      * * * \n",
      "        * \n"
     ]
    }
   ],
   "source": [
    "def pyramidpattern(n):\n",
    "    for i in range(0,n):\n",
    "        #space\n",
    "        for j in range(0,i):\n",
    "            print(\" \",end=\" \")\n",
    "        #stars\n",
    "        for k in range(0,(2*n)-(2*i+1)):\n",
    "            print(\"*\",end=\" \")\n",
    "        print()\n",
    "    #print()\n",
    "\n",
    "if __name__==\"__main__\":\n",
    "    n=int(input(\"enter a input:\"))\n",
    "    pyramidpattern(n)"
   ]
  },
  {
   "cell_type": "code",
   "execution_count": null,
   "metadata": {},
   "outputs": [],
   "source": []
  }
 ],
 "metadata": {
  "kernelspec": {
   "display_name": "Python 3",
   "language": "python",
   "name": "python3"
  },
  "language_info": {
   "codemirror_mode": {
    "name": "ipython",
    "version": 3
   },
   "file_extension": ".py",
   "mimetype": "text/x-python",
   "name": "python",
   "nbconvert_exporter": "python",
   "pygments_lexer": "ipython3",
   "version": "3.12.1"
  }
 },
 "nbformat": 4,
 "nbformat_minor": 2
}
