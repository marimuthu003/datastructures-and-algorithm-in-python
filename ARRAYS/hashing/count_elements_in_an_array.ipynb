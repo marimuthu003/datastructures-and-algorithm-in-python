{
 "cells": [
  {
   "cell_type": "markdown",
   "metadata": {},
   "source": [
    "## NUMBER HASHING"
   ]
  },
  {
   "cell_type": "code",
   "execution_count": 1,
   "metadata": {},
   "outputs": [
    {
     "name": "stdout",
     "output_type": "stream",
     "text": [
      "elements counts :{1: 3, 2: 2, 3: 2, 4: 1, 5: 1}\n"
     ]
    }
   ],
   "source": [
    "def count_elements(arr):\n",
    "    counts={}\n",
    "    for element in arr:\n",
    "        if element in counts:\n",
    "            counts[element]+=1\n",
    "        else:\n",
    "            counts[element]=1\n",
    "    return counts\n",
    "if __name__=='__main__':\n",
    "    arr=[1,2,3,4,1,2,3,5,1]\n",
    "    result=count_elements(arr)\n",
    "    print(f'elements counts :{result}')"
   ]
  },
  {
   "cell_type": "markdown",
   "metadata": {},
   "source": [
    "## CHARACTER HASHING"
   ]
  },
  {
   "cell_type": "code",
   "execution_count": 6,
   "metadata": {},
   "outputs": [
    {
     "name": "stdout",
     "output_type": "stream",
     "text": [
      "character count: {'a': 2, 'b': 1, 'c': 2, 'd': 2}\n"
     ]
    }
   ],
   "source": [
    "def characterhash(string):\n",
    "    counts={}\n",
    "    for char in string:\n",
    "        if char in counts:\n",
    "            counts[char]+=1\n",
    "        else:\n",
    "            counts[char]=1\n",
    "    return counts\n",
    "if __name__=='__main__':\n",
    "    string=\"abcdacd\"\n",
    "    print(\"character count:\",characterhash(string))"
   ]
  },
  {
   "cell_type": "code",
   "execution_count": 9,
   "metadata": {},
   "outputs": [
    {
     "name": "stdout",
     "output_type": "stream",
     "text": [
      "Character count: [0, 1, 1, 2, 0, 0, 0, 0, 0, 0, 0, 0, 0, 0, 0, 0, 0, 0, 0, 0, 0, 0, 0, 0, 0, 0, 2, 0, 1, 0, 0, 0, 0, 0, 0, 0, 0, 0, 0, 0, 0, 0, 0, 0, 0, 0, 0, 0, 0, 0, 0, 0]\n"
     ]
    }
   ],
   "source": [
    "def character_hash(string):\n",
    "    counts = [0] * 52  # Assuming both lowercase and uppercase English alphabets\n",
    "\n",
    "    # Iterate through the characters in the string\n",
    "    for char in string:\n",
    "        if 'a' <= char <= 'z':\n",
    "            counts[ord(char) - ord('a')] += 1\n",
    "        elif 'A' <= char <= 'Z':\n",
    "            counts[ord(char) - ord('A') + 26] += 1\n",
    "\n",
    "    return counts\n",
    "\n",
    "if __name__ == '__main__':\n",
    "    string = \"AbcdACd\"\n",
    "    print(\"Character count:\", character_hash(string))\n"
   ]
  },
  {
   "cell_type": "code",
   "execution_count": null,
   "metadata": {},
   "outputs": [],
   "source": []
  }
 ],
 "metadata": {
  "kernelspec": {
   "display_name": "Python 3",
   "language": "python",
   "name": "python3"
  },
  "language_info": {
   "codemirror_mode": {
    "name": "ipython",
    "version": 3
   },
   "file_extension": ".py",
   "mimetype": "text/x-python",
   "name": "python",
   "nbconvert_exporter": "python",
   "pygments_lexer": "ipython3",
   "version": "3.12.1"
  }
 },
 "nbformat": 4,
 "nbformat_minor": 2
}
