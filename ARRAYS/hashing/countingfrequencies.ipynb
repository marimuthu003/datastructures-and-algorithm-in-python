{
 "cells": [
  {
   "cell_type": "code",
   "execution_count": 2,
   "metadata": {},
   "outputs": [
    {
     "name": "stdout",
     "output_type": "stream",
     "text": [
      "10 1\n",
      "10 2\n",
      "10 2\n",
      "10 3\n",
      "10 3\n",
      "2 1\n",
      "2 1\n",
      "2 1\n",
      "2 2\n",
      "3 1\n",
      "3 1\n"
     ]
    }
   ],
   "source": [
    "def countnum(arr,n):\n",
    "    visited=[False]*n\n",
    "    for i in range(0,n):\n",
    "        if visited[i]==True:\n",
    "           continue\n",
    "        count=1  \n",
    "        for j in range(i+1,n):\n",
    "            if arr[i]==arr[j]:\n",
    "                visited[j]=True\n",
    "                count+=1\n",
    "            print(arr[i],count)\n",
    "if __name__=='__main__':\n",
    "    arr=[10,2,10,3,10,2]\n",
    "    n=len(arr)\n",
    "    countnum(arr,n)"
   ]
  },
  {
   "cell_type": "code",
   "execution_count": 12,
   "metadata": {},
   "outputs": [
    {
     "name": "stdout",
     "output_type": "stream",
     "text": [
      "10\n",
      "2\n"
     ]
    }
   ],
   "source": [
    "max_freq=0\n",
    "min_freq=float('inf')\n",
    "max_ele=None \n",
    "min_ele=None\n",
    "def highlow(arr,n):\n",
    "    visited=[False]*n\n",
    "    \n",
    "    global max_freq, min_freq, max_ele, min_ele\n",
    "    \n",
    "    for i in range(0,n):\n",
    "        if visited[i]==True:\n",
    "            continue\n",
    "        count=1\n",
    "        for j in range(i+1,n):\n",
    "            if arr[i]==arr[j]:\n",
    "                visited[j]=True\n",
    "                count+=1\n",
    "        if count>max_freq:\n",
    "            max_ele=arr[i]\n",
    "            max_freq=count\n",
    "        if count<min_freq:\n",
    "            min_ele=arr[i]\n",
    "            min_freq=count\n",
    "    print(max_ele)\n",
    "    print(min_ele)\n",
    "\n",
    "if __name__==\"__main__\":\n",
    "    arr=[10,10,3,3,2]\n",
    "    n=len(arr)\n",
    "    highlow(arr,n)"
   ]
  },
  {
   "cell_type": "code",
   "execution_count": null,
   "metadata": {},
   "outputs": [],
   "source": []
  }
 ],
 "metadata": {
  "kernelspec": {
   "display_name": "Python 3",
   "language": "python",
   "name": "python3"
  },
  "language_info": {
   "codemirror_mode": {
    "name": "ipython",
    "version": 3
   },
   "file_extension": ".py",
   "mimetype": "text/x-python",
   "name": "python",
   "nbconvert_exporter": "python",
   "pygments_lexer": "ipython3",
   "version": "3.12.1"
  }
 },
 "nbformat": 4,
 "nbformat_minor": 2
}
