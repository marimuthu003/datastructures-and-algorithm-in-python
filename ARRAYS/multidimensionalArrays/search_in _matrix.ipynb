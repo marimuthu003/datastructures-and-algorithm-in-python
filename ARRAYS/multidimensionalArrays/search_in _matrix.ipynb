{
 "cells": [
  {
   "cell_type": "code",
   "execution_count": 3,
   "metadata": {},
   "outputs": [
    {
     "name": "stdout",
     "output_type": "stream",
     "text": [
      "yes\n"
     ]
    }
   ],
   "source": [
    "def search(arr,key):\n",
    "    for i in range(0,3):\n",
    "        for j in range(0,3):\n",
    "            if(arr[i][j]==key):\n",
    "                return 1\n",
    "    return \n",
    "if __name__=='__main__':\n",
    "    arr=[[1,2,3],[3,4,5],[5,6,7]]\n",
    "    key=5\n",
    "    if search(arr,key):\n",
    "        print('yes')\n",
    "    else:\n",
    "        print('no')"
   ]
  },
  {
   "cell_type": "code",
   "execution_count": null,
   "metadata": {},
   "outputs": [],
   "source": []
  }
 ],
 "metadata": {
  "kernelspec": {
   "display_name": "Python 3",
   "language": "python",
   "name": "python3"
  },
  "language_info": {
   "codemirror_mode": {
    "name": "ipython",
    "version": 3
   },
   "file_extension": ".py",
   "mimetype": "text/x-python",
   "name": "python",
   "nbconvert_exporter": "python",
   "pygments_lexer": "ipython3",
   "version": "3.12.1"
  }
 },
 "nbformat": 4,
 "nbformat_minor": 2
}
