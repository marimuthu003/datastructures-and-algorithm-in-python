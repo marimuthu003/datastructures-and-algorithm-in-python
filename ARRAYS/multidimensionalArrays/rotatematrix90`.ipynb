{
 "cells": [
  {
   "cell_type": "code",
   "execution_count": 8,
   "metadata": {},
   "outputs": [
    {
     "name": "stdout",
     "output_type": "stream",
     "text": [
      "14 10 6 1  \n",
      "15 11 7 2  \n",
      "16 12 8 3  \n",
      "17 13 9 4  \n"
     ]
    }
   ],
   "source": [
    "def transpose(mat,row,col):\n",
    "        for i in range(0,row):\n",
    "                for j in range(i+1,col):\n",
    "                        temp=mat[i][j]\n",
    "                        mat[i][j]=mat[j][i]\n",
    "                        mat[j][i]=temp\n",
    "\n",
    "def reverse(mat,row,col):\n",
    "        for i in range(0,row):\n",
    "                for j in range(0,col//2):\n",
    "                        temp=mat[i][j]\n",
    "                        mat[i][j]=mat[i][col-1-j]\n",
    "                        mat[i][col-1-j]=temp\n",
    "def rotatemat(mat,row,col):\n",
    "        transpose(mat,row,col)\n",
    "        reverse(mat,row,col)\n",
    "if __name__=='__main__':\n",
    "        mat =[[1, 2, 3, 4], \n",
    "             [6, 7, 8, 9], \n",
    "             [10, 11, 12, 13], \n",
    "             [14,15 ,16, 17]]\n",
    "        row=4\n",
    "        col=4\n",
    "        rotatemat(mat,row,col)\n",
    "        for i in range(0,row):\n",
    "                for j in range(0,col):\n",
    "                        print(mat[i][j],end=\" \")\n",
    "                print(\" \")\n",
    "        "
   ]
  },
  {
   "cell_type": "code",
   "execution_count": null,
   "metadata": {},
   "outputs": [],
   "source": []
  }
 ],
 "metadata": {
  "kernelspec": {
   "display_name": "Python 3",
   "language": "python",
   "name": "python3"
  },
  "language_info": {
   "codemirror_mode": {
    "name": "ipython",
    "version": 3
   },
   "file_extension": ".py",
   "mimetype": "text/x-python",
   "name": "python",
   "nbconvert_exporter": "python",
   "pygments_lexer": "ipython3",
   "version": "3.12.1"
  }
 },
 "nbformat": 4,
 "nbformat_minor": 2
}
