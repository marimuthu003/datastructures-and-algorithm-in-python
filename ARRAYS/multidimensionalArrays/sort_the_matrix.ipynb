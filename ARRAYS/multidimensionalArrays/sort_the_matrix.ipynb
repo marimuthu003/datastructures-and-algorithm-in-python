{
 "cells": [
  {
   "cell_type": "code",
   "execution_count": 2,
   "metadata": {},
   "outputs": [
    {
     "name": "stdout",
     "output_type": "stream",
     "text": [
      "1 2 3  \n",
      "4 5 6  \n",
      "7 8 9  \n"
     ]
    }
   ],
   "source": [
    "def sortmat(arr,n):\n",
    "    temp=[0]*n*n\n",
    "    k=0\n",
    "    for i in range(0,3):\n",
    "        for j in range(0,3):\n",
    "            temp[k]=arr[i][j]\n",
    "            k+=1\n",
    "    temp.sort()\n",
    "\n",
    "    k=0\n",
    "    for i in range(0,3):\n",
    "        for j in range(0,3):\n",
    "            arr[i][j]=temp[k]\n",
    "            k+=1\n",
    "def printmat(arr):\n",
    "    for i in range(0,3):\n",
    "        for j in range(0,3):\n",
    "            print(arr[i][j],end=\" \")\n",
    "        print(\" \")\n",
    "if __name__=='__main__':\n",
    "    arr=[[5, 4, 7],  \n",
    "         [1, 3, 8],  \n",
    "         [2, 9, 6]] \n",
    "    n=3\n",
    "    sortmat(arr,n)\n",
    "    printmat(arr)"
   ]
  },
  {
   "cell_type": "code",
   "execution_count": null,
   "metadata": {},
   "outputs": [],
   "source": []
  }
 ],
 "metadata": {
  "kernelspec": {
   "display_name": "Python 3",
   "language": "python",
   "name": "python3"
  },
  "language_info": {
   "codemirror_mode": {
    "name": "ipython",
    "version": 3
   },
   "file_extension": ".py",
   "mimetype": "text/x-python",
   "name": "python",
   "nbconvert_exporter": "python",
   "pygments_lexer": "ipython3",
   "version": "3.12.1"
  }
 },
 "nbformat": 4,
 "nbformat_minor": 2
}
