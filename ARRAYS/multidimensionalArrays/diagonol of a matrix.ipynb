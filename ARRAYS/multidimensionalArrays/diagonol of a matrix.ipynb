{
 "cells": [
  {
   "cell_type": "code",
   "execution_count": 3,
   "metadata": {},
   "outputs": [
    {
     "name": "stdout",
     "output_type": "stream",
     "text": [
      "1 5 9  \n",
      "3 5 7 "
     ]
    }
   ],
   "source": [
    "def principlediagonal(arr):\n",
    "    for i in range(0,3):\n",
    "        for j in range(0,3):\n",
    "            if(i==j):\n",
    "                print(arr[i][j],end=\" \")\n",
    "    print(\" \")\n",
    "            \n",
    "def secondarydiagonal(arr,n):\n",
    "    for i in range(0,3):\n",
    "        for j in range(0,3):\n",
    "            if(i+j)==(n-1):\n",
    "                print(arr[i][j],end=\" \")\n",
    "\n",
    "if __name__=='__main__':\n",
    "    arr=[\n",
    "        [1,2,3],\n",
    "        [4,5,6],\n",
    "        [7,8,9]\n",
    "    ]\n",
    "    n=3\n",
    "    principlediagonal(arr)\n",
    "    secondarydiagonal(arr,n)"
   ]
  },
  {
   "cell_type": "code",
   "execution_count": null,
   "metadata": {},
   "outputs": [],
   "source": []
  }
 ],
 "metadata": {
  "kernelspec": {
   "display_name": "Python 3",
   "language": "python",
   "name": "python3"
  },
  "language_info": {
   "codemirror_mode": {
    "name": "ipython",
    "version": 3
   },
   "file_extension": ".py",
   "mimetype": "text/x-python",
   "name": "python",
   "nbconvert_exporter": "python",
   "pygments_lexer": "ipython3",
   "version": "3.12.1"
  }
 },
 "nbformat": 4,
 "nbformat_minor": 2
}
