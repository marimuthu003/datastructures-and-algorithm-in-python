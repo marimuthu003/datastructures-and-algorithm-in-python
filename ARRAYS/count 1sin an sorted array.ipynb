{
 "cells": [
  {
   "cell_type": "code",
   "execution_count": 7,
   "metadata": {},
   "outputs": [],
   "source": [
    "def count_ones(arr):\n",
    " def first_index(arr,low,high):\n",
    "        while low<=high:\n",
    "            mid=(low+high)//2\n",
    "            if(arr[mid]==0 or arr[mid-1]==0)and arr[mid]==1:\n",
    "                return mid\n",
    "            elif arr[mid]<1:\n",
    "                low=mid+1\n",
    "            else:\n",
    "                high=mid-1\n",
    "        return -1                \n",
    " def last_index(arr,low,high):\n",
    "        while low<=high:\n",
    "            mid=(low+high)//2\n",
    "            if(arr[mid]==len(arr)-1 or arr[mid+1]==0)and arr[mid]==1:\n",
    "                return mid\n",
    "            elif arr[mid]<1:\n",
    "                low=mid+1\n",
    "            else:\n",
    "                high=mid-1\n",
    "        return -1       \n",
    " \n",
    " if __name__=='__main__':\n",
    "    arr=[0,0,0,0,0,1,1,1,1,2,2,2]\n",
    "    low=0\n",
    "    high=len(arr)-1\n",
    "    res1=first_index(arr,low,high)\n",
    "    if res1==-1:\n",
    "        print(\"False\")\n",
    "    res2=last_index(arr,low,high)\n",
    "    if res2==-1:\n",
    "        print(\"False\")\n",
    " result=first_index+last_index-1\n",
    " count_ones(arr)\n",
    " print(result)\n"
   ]
  },
  {
   "cell_type": "code",
   "execution_count": null,
   "metadata": {},
   "outputs": [],
   "source": []
  }
 ],
 "metadata": {
  "kernelspec": {
   "display_name": "Python 3",
   "language": "python",
   "name": "python3"
  },
  "language_info": {
   "codemirror_mode": {
    "name": "ipython",
    "version": 3
   },
   "file_extension": ".py",
   "mimetype": "text/x-python",
   "name": "python",
   "nbconvert_exporter": "python",
   "pygments_lexer": "ipython3",
   "version": "3.12.1"
  }
 },
 "nbformat": 4,
 "nbformat_minor": 2
}
