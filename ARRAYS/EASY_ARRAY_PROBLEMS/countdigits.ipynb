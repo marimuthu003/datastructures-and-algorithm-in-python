{
 "cells": [
  {
   "cell_type": "code",
   "execution_count": 1,
   "metadata": {},
   "outputs": [
    {
     "name": "stdout",
     "output_type": "stream",
     "text": [
      "counting digits is 3\n"
     ]
    }
   ],
   "source": [
    "def count_digits(n):\n",
    "    count=0\n",
    "    while(n!=0):\n",
    "        n//=10\n",
    "        count+=1\n",
    "    return count\n",
    "if __name__==\"__main__\":\n",
    "    n=int(input(\"enter a number:\"))\n",
    "    result=count_digits(n)\n",
    "    print(f\"counting digits is {result}\")\n",
    "        "
   ]
  },
  {
   "cell_type": "code",
   "execution_count": 3,
   "metadata": {},
   "outputs": [
    {
     "name": "stdout",
     "output_type": "stream",
     "text": [
      "Number of digits in  12345  is  5\n"
     ]
    }
   ],
   "source": [
    "\n",
    "\n",
    "\n",
    "def count_digits(n):\n",
    "  x = str(n)\n",
    "  return len(x)\n",
    "\n",
    "n = 12345\n",
    "print(\"Number of digits in \", n, \" is \", count_digits(n))\n",
    "\n"
   ]
  },
  {
   "cell_type": "code",
   "execution_count": null,
   "metadata": {},
   "outputs": [],
   "source": []
  }
 ],
 "metadata": {
  "kernelspec": {
   "display_name": "Python 3",
   "language": "python",
   "name": "python3"
  },
  "language_info": {
   "codemirror_mode": {
    "name": "ipython",
    "version": 3
   },
   "file_extension": ".py",
   "mimetype": "text/x-python",
   "name": "python",
   "nbconvert_exporter": "python",
   "pygments_lexer": "ipython3",
   "version": "3.12.1"
  }
 },
 "nbformat": 4,
 "nbformat_minor": 2
}
