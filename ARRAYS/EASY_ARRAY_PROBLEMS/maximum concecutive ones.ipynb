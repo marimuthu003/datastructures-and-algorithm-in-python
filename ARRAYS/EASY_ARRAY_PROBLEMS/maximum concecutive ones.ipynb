{
 "cells": [
  {
   "cell_type": "code",
   "execution_count": 1,
   "metadata": {},
   "outputs": [
    {
     "name": "stdout",
     "output_type": "stream",
     "text": [
      "3\n"
     ]
    }
   ],
   "source": [
    "from typing import List\n",
    "\n",
    "class Solution:\n",
    "    def findMaxConsecutiveOnes(self, nums: List[int]) -> int:\n",
    "        cnt = 0\n",
    "        maximum = 0  # Renamed from 'max' to 'maximum' to avoid shadowing the built-in function\n",
    "\n",
    "        for i in range(len(nums)):\n",
    "            if nums[i] == 1:\n",
    "                cnt += 1\n",
    "            else:\n",
    "                cnt = 0\n",
    "            maximum = max(maximum, cnt)  # Corrected 'maxi' to 'maximum'\n",
    "        return maximum\n",
    "\n",
    "# Example usage\n",
    "soln = Solution()  # Corrected the variable name to 'soln'\n",
    "nums = [1, 1, 0, 1, 1, 1]\n",
    "result = soln.findMaxConsecutiveOnes(nums)  # Corrected the method call on 'soln'\n",
    "print(result)  # Should output 3, as the longest sequence of consecutive 1s is 3\n",
    "\n"
   ]
  },
  {
   "cell_type": "code",
   "execution_count": null,
   "metadata": {},
   "outputs": [],
   "source": []
  }
 ],
 "metadata": {
  "kernelspec": {
   "display_name": "Python 3",
   "language": "python",
   "name": "python3"
  },
  "language_info": {
   "codemirror_mode": {
    "name": "ipython",
    "version": 3
   },
   "file_extension": ".py",
   "mimetype": "text/x-python",
   "name": "python",
   "nbconvert_exporter": "python",
   "pygments_lexer": "ipython3",
   "version": "3.12.1"
  }
 },
 "nbformat": 4,
 "nbformat_minor": 2
}
