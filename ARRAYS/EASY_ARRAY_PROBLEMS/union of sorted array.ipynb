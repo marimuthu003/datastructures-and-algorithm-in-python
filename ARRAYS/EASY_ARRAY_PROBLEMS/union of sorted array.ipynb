{
 "cells": [
  {
   "cell_type": "code",
   "execution_count": 1,
   "metadata": {},
   "outputs": [
    {
     "name": "stdout",
     "output_type": "stream",
     "text": [
      "Union of arr1 and arr2 is:\n",
      "1 2 3 4 5 6 7 8 9 10 11 12\n"
     ]
    }
   ],
   "source": [
    "def union(arr1,arr2):\n",
    "    i,j=0,0\n",
    "    union=[]\n",
    "    while i<len(arr1) and j<len(arr2):\n",
    "        if arr1[i]<arr2[j]:\n",
    "            if len(union)==0 or union[-1]!=arr1[i]:\n",
    "                union.append(arr1[i])\n",
    "            i+=1\n",
    "        else:\n",
    "            if len(union)==0 or union[-1]!=arr2[j]:\n",
    "                union.append(arr2[j])\n",
    "            j+=1\n",
    "    while i<len(arr1):\n",
    "        if union[-1]!=arr1[i]:\n",
    "            union.append(arr2[i])\n",
    "        i+=1\n",
    "    while j < len(arr2):  # If any elements left in arr2\n",
    "        if union[-1] != arr2[j]:\n",
    "            union.append(arr2[j])\n",
    "        j += 1\n",
    "    return union\n",
    "\n",
    "if __name__==\"__main__\":\n",
    "    \n",
    "    arr1 = [1, 2, 3, 4, 5, 6, 7, 8, 9, 10]\n",
    "    arr2 = [2, 3, 4, 4, 5, 11, 12]\n",
    "\n",
    "    union = union(arr1, arr2)\n",
    "\n",
    "    print(\"Union of arr1 and arr2 is:\")\n",
    "    print(*union)\n"
   ]
  },
  {
   "cell_type": "code",
   "execution_count": null,
   "metadata": {},
   "outputs": [],
   "source": []
  }
 ],
 "metadata": {
  "kernelspec": {
   "display_name": "Python 3",
   "language": "python",
   "name": "python3"
  },
  "language_info": {
   "codemirror_mode": {
    "name": "ipython",
    "version": 3
   },
   "file_extension": ".py",
   "mimetype": "text/x-python",
   "name": "python",
   "nbconvert_exporter": "python",
   "pygments_lexer": "ipython3",
   "version": "3.12.1"
  }
 },
 "nbformat": 4,
 "nbformat_minor": 2
}
