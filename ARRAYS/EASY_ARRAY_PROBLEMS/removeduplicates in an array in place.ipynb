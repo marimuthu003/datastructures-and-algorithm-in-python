{
 "cells": [
  {
   "cell_type": "code",
   "execution_count": null,
   "metadata": {},
   "outputs": [],
   "source": [
    "\n",
    "\n",
    "def removeDuplicates(arr)\n",
    "    i = 0\n",
    "    for j in range(1, len(arr)):\n",
    "        if arr[i] != arr[j]:\n",
    "            i += 1\n",
    "            arr[i] = arr[j]\n",
    "    return i + 1\n",
    "\n",
    "\n",
    "if __name__ == \"__main__\":\n",
    "    arr = [1, 1, 2, 2, 2, 3, 3]\n",
    "    k = removeDuplicates(arr)\n",
    "    print(\"The array after removing duplicate elements is \")\n",
    "    for i in range(k):\n",
    "        print(arr[i], end=\" \")\n",
    "\n"
   ]
  }
 ],
 "metadata": {
  "language_info": {
   "name": "python"
  }
 },
 "nbformat": 4,
 "nbformat_minor": 2
}
