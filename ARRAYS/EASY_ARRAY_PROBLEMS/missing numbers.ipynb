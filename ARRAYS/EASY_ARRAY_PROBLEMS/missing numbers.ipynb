{
 "cells": [
  {
   "cell_type": "code",
   "execution_count": 1,
   "metadata": {},
   "outputs": [
    {
     "name": "stdout",
     "output_type": "stream",
     "text": [
      "2\n"
     ]
    }
   ],
   "source": [
    "from typing import List\n",
    "\n",
    "class Solution:\n",
    "    def missingNumber(self, nums: List[int]) -> int:\n",
    "        N = len(nums)\n",
    "        summation = N * (N + 1) // 2\n",
    "        s2 = sum(nums)\n",
    "        missing = summation - s2\n",
    "        return missing\n",
    "\n",
    "# Example usage\n",
    "soln = Solution()\n",
    "a = [3, 0, 1]\n",
    "result = soln.missingNumber(a)\n",
    "print(result)  # Should output 2, as 2 is the missing number in the list [3, 0, 1]\n"
   ]
  },
  {
   "cell_type": "code",
   "execution_count": null,
   "metadata": {},
   "outputs": [],
   "source": []
  }
 ],
 "metadata": {
  "kernelspec": {
   "display_name": "Python 3",
   "language": "python",
   "name": "python3"
  },
  "language_info": {
   "codemirror_mode": {
    "name": "ipython",
    "version": 3
   },
   "file_extension": ".py",
   "mimetype": "text/x-python",
   "name": "python",
   "nbconvert_exporter": "python",
   "pygments_lexer": "ipython3",
   "version": "3.12.1"
  }
 },
 "nbformat": 4,
 "nbformat_minor": 2
}
