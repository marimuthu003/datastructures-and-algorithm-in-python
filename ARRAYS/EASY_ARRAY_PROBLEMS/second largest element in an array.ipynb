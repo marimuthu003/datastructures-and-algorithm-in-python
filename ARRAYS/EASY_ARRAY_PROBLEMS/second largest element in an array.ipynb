{
 "cells": [
  {
   "cell_type": "markdown",
   "metadata": {},
   "source": [
    "### optimal approach"
   ]
  },
  {
   "cell_type": "code",
   "execution_count": 5,
   "metadata": {},
   "outputs": [
    {
     "name": "stdout",
     "output_type": "stream",
     "text": [
      "6\n"
     ]
    }
   ],
   "source": [
    "def seclarge(arr):\n",
    "    n=len(arr)\n",
    "    first_largest=float('-inf')\n",
    "    second_largest=float('-inf')\n",
    "    for i in range(0,n):\n",
    "        if arr[i]>first_largest:\n",
    "            second_largest=first_largest\n",
    "            first_largest=arr[i]\n",
    "        elif arr[i]>second_largest and arr[i]!=first_largest:\n",
    "            second_largest=arr[i]\n",
    "    return second_largest\n",
    "if __name__=='__main__':\n",
    "    arr=[1,2,4,7,6,5]\n",
    "    print(seclarge(arr))\n"
   ]
  },
  {
   "cell_type": "markdown",
   "metadata": {},
   "source": [
    "### brute force approach"
   ]
  },
  {
   "cell_type": "code",
   "execution_count": 11,
   "metadata": {},
   "outputs": [
    {
     "name": "stdout",
     "output_type": "stream",
     "text": [
      "(2, 6)\n"
     ]
    }
   ],
   "source": [
    "def seclarge(arr):\n",
    "    n=len(arr)\n",
    "    arr.sort()\n",
    "    for i in range(n):\n",
    "        second_small=arr[1]\n",
    "        second_large=arr[n-2]\n",
    "    return second_small,second_large\n",
    "if __name__=='__main__':\n",
    "    arr=[1,2,4,6,5,7]\n",
    "    print(seclarge(arr))"
   ]
  },
  {
   "cell_type": "markdown",
   "metadata": {},
   "source": [
    "### Better Approach"
   ]
  },
  {
   "cell_type": "code",
   "execution_count": 10,
   "metadata": {},
   "outputs": [
    {
     "name": "stdout",
     "output_type": "stream",
     "text": [
      "(6, 2)\n"
     ]
    }
   ],
   "source": [
    "def seclarge(arr):\n",
    "    n=len(arr)\n",
    "\n",
    "    second_small=float('inf')\n",
    "    small=float('inf')\n",
    "    second_large=float('-inf')\n",
    "    large=float('-inf')\n",
    "\n",
    "    for i in range(n):\n",
    "        small=min(small,arr[i])\n",
    "        large=max(large,arr[i])\n",
    "    for i in range(n):\n",
    "        if arr[i]<second_small and arr[i]!=small:\n",
    "            second_small=arr[i]\n",
    "        elif arr[i]>second_large and arr[i]!=large:\n",
    "            second_large=arr[i]\n",
    "    return second_large,second_small       \n",
    "           \n",
    "if __name__=='__main__':\n",
    "    arr=[1,2,4,6,5,7]\n",
    "    print(seclarge(arr))"
   ]
  },
  {
   "cell_type": "code",
   "execution_count": null,
   "metadata": {},
   "outputs": [],
   "source": []
  }
 ],
 "metadata": {
  "kernelspec": {
   "display_name": "Python 3",
   "language": "python",
   "name": "python3"
  },
  "language_info": {
   "codemirror_mode": {
    "name": "ipython",
    "version": 3
   },
   "file_extension": ".py",
   "mimetype": "text/x-python",
   "name": "python",
   "nbconvert_exporter": "python",
   "pygments_lexer": "ipython3",
   "version": "3.12.1"
  }
 },
 "nbformat": 4,
 "nbformat_minor": 2
}
