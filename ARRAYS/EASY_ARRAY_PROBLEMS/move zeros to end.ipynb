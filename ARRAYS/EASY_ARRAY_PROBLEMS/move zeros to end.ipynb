{
 "cells": [
  {
   "cell_type": "code",
   "execution_count": 2,
   "metadata": {},
   "outputs": [
    {
     "name": "stdout",
     "output_type": "stream",
     "text": [
      "1 2 3 2 4 5 1 0 0 0 \n"
     ]
    }
   ],
   "source": [
    "\n",
    "\n",
    "\n",
    "def moveZeros(n,  a):\n",
    "    # Temporary array\n",
    "    temp = []\n",
    "    \n",
    "    # Copy non-zero elements from original to temp array\n",
    "    for i in range(n):\n",
    "        if a[i] != 0:\n",
    "            temp.append(a[i])\n",
    "    \n",
    "    # Number of non-zero elements\n",
    "    nz = len(temp)\n",
    "    \n",
    "    # Copy elements from temp to fill first nz fields of original array\n",
    "    for i in range(nz):\n",
    "        a[i] = temp[i]\n",
    "    \n",
    "    # Fill the rest of the cells with 0\n",
    "    for i in range(nz, n):\n",
    "        a[i] = 0\n",
    "    \n",
    "    return a\n",
    "\n",
    "arr = [1, 0, 2, 3, 2, 0, 0, 4, 5, 1]\n",
    "n = 10\n",
    "ans = moveZeros(n, arr)\n",
    "for it in ans:\n",
    "    print(it, end=\" \")\n",
    "print()\n",
    "\n",
    "\n",
    "\n"
   ]
  },
  {
   "cell_type": "code",
   "execution_count": null,
   "metadata": {},
   "outputs": [],
   "source": []
  }
 ],
 "metadata": {
  "kernelspec": {
   "display_name": "Python 3",
   "language": "python",
   "name": "python3"
  },
  "language_info": {
   "codemirror_mode": {
    "name": "ipython",
    "version": 3
   },
   "file_extension": ".py",
   "mimetype": "text/x-python",
   "name": "python",
   "nbconvert_exporter": "python",
   "pygments_lexer": "ipython3",
   "version": "3.12.1"
  }
 },
 "nbformat": 4,
 "nbformat_minor": 2
}
