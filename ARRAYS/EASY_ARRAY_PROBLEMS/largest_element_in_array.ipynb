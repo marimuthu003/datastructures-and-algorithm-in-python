{
 "cells": [
  {
   "cell_type": "markdown",
   "metadata": {},
   "source": [
    "### BRUTE FORCE APPROACH"
   ]
  },
  {
   "cell_type": "code",
   "execution_count": 2,
   "metadata": {},
   "outputs": [
    {
     "name": "stdout",
     "output_type": "stream",
     "text": [
      "6\n"
     ]
    }
   ],
   "source": [
    "def large(arr):\n",
    "    #sort the array\n",
    "    arr.sort()\n",
    "    print(arr[len(arr)-1])\n",
    "if __name__=='__main__':\n",
    "    arr=[1,5,3,6,2]\n",
    "    large(arr)\n"
   ]
  },
  {
   "cell_type": "code",
   "execution_count": 10,
   "metadata": {},
   "outputs": [
    {
     "name": "stdout",
     "output_type": "stream",
     "text": [
      "6\n"
     ]
    }
   ],
   "source": [
    "def large(arr):\n",
    "    #sort the array using insertion sort\n",
    "    n=len(arr)\n",
    "    for i in range(0,n):\n",
    "        min_idx=i\n",
    "        for j in range(i+1,n):\n",
    "            if arr[min_idx]>arr[j]:\n",
    "                min_idx=j\n",
    "        arr[i],arr[min_idx]=arr[min_idx],arr[i]\n",
    "    #find largest element\n",
    "    print(arr[n-1])\n",
    "if __name__=='__main__':\n",
    "    arr=[4,5,3,6,1]\n",
    "    large(arr)"
   ]
  },
  {
   "cell_type": "markdown",
   "metadata": {},
   "source": [
    "### OPTIMAL APPROACH"
   ]
  },
  {
   "cell_type": "code",
   "execution_count": 15,
   "metadata": {},
   "outputs": [
    {
     "name": "stdout",
     "output_type": "stream",
     "text": [
      "6\n"
     ]
    }
   ],
   "source": [
    "def large(arr):\n",
    "    n=len(arr)\n",
    "    max=arr[0]\n",
    "    for i in range(0,n):\n",
    "        if max<arr[i]:\n",
    "            max=arr[i]\n",
    "    return max\n",
    "if __name__=='__main__':\n",
    "    arr=[4,5,3,6,1]\n",
    "    print(large(arr))\n"
   ]
  },
  {
   "cell_type": "code",
   "execution_count": null,
   "metadata": {},
   "outputs": [],
   "source": []
  },
  {
   "cell_type": "code",
   "execution_count": null,
   "metadata": {},
   "outputs": [],
   "source": []
  }
 ],
 "metadata": {
  "kernelspec": {
   "display_name": "Python 3",
   "language": "python",
   "name": "python3"
  },
  "language_info": {
   "codemirror_mode": {
    "name": "ipython",
    "version": 3
   },
   "file_extension": ".py",
   "mimetype": "text/x-python",
   "name": "python",
   "nbconvert_exporter": "python",
   "pygments_lexer": "ipython3",
   "version": "3.12.1"
  }
 },
 "nbformat": 4,
 "nbformat_minor": 2
}
