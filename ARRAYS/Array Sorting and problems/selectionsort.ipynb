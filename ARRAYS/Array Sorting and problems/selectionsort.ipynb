{
 "cells": [
  {
   "cell_type": "code",
   "execution_count": 5,
   "metadata": {},
   "outputs": [
    {
     "name": "stdout",
     "output_type": "stream",
     "text": [
      "10,12,21,34,56,"
     ]
    }
   ],
   "source": [
    "def selectionsort(arr):\n",
    "    for i in range(len(arr)):\n",
    "        min_indx=i\n",
    "        for j in range(i+1,len(arr)):\n",
    "            if arr[min_indx]>arr[j]:\n",
    "                min_indx=j\n",
    "        arr[i],arr[min_indx]=arr[min_indx],arr[i]\n",
    "if __name__=='__main__':\n",
    "    arr=[34,56,21,12,10]\n",
    "    selectionsort(arr)\n",
    "    for i in range(len(arr)):\n",
    "        print(arr[i],end=',')"
   ]
  },
  {
   "cell_type": "code",
   "execution_count": null,
   "metadata": {},
   "outputs": [],
   "source": []
  }
 ],
 "metadata": {
  "kernelspec": {
   "display_name": "Python 3",
   "language": "python",
   "name": "python3"
  },
  "language_info": {
   "codemirror_mode": {
    "name": "ipython",
    "version": 3
   },
   "file_extension": ".py",
   "mimetype": "text/x-python",
   "name": "python",
   "nbconvert_exporter": "python",
   "pygments_lexer": "ipython3",
   "version": "3.12.1"
  }
 },
 "nbformat": 4,
 "nbformat_minor": 2
}
