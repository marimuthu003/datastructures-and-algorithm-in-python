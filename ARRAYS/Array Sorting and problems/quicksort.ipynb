{
 "cells": [
  {
   "cell_type": "code",
   "execution_count": 8,
   "metadata": {},
   "outputs": [
    {
     "name": "stdout",
     "output_type": "stream",
     "text": [
      "1 2 3 4 5 6 7 8 "
     ]
    }
   ],
   "source": [
    "def partition(a,start,end):\n",
    "    pivot=a[end]\n",
    "    p_index=start\n",
    "    for i in range(start,end):\n",
    "        if (a[i]<pivot):\n",
    "            a[i],a[p_index]=a[p_index],a[i]\n",
    "            p_index+=1\n",
    "    a[end],a[p_index]=a[p_index],a[end]\n",
    "    return p_index\n",
    "def quicksort(a,start,end):\n",
    "    if(start<end):\n",
    "        p_index=partition(a,start,end)\n",
    "        quicksort(a,start,p_index-1)\n",
    "        quicksort(a,p_index+1,end)  \n",
    "if __name__=='__main__':\n",
    "    a=[7,2,1,6,8,5,3,4]\n",
    "    quicksort(a,0,len(a)-1)\n",
    "    for i in range(len(a)):\n",
    "        print(a[i],end=\" \")"
   ]
  },
  {
   "cell_type": "code",
   "execution_count": null,
   "metadata": {},
   "outputs": [],
   "source": []
  }
 ],
 "metadata": {
  "kernelspec": {
   "display_name": "Python 3",
   "language": "python",
   "name": "python3"
  },
  "language_info": {
   "codemirror_mode": {
    "name": "ipython",
    "version": 3
   },
   "file_extension": ".py",
   "mimetype": "text/x-python",
   "name": "python",
   "nbconvert_exporter": "python",
   "pygments_lexer": "ipython3",
   "version": "3.12.1"
  }
 },
 "nbformat": 4,
 "nbformat_minor": 2
}
