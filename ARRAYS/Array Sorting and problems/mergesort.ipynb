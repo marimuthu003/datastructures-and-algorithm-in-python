{
 "cells": [
  {
   "cell_type": "markdown",
   "metadata": {},
   "source": [
    "# NORMAL APPROACH WITH 3 ARRAYS:\n"
   ]
  },
  {
   "cell_type": "code",
   "execution_count": 11,
   "metadata": {},
   "outputs": [
    {
     "name": "stdout",
     "output_type": "stream",
     "text": [
      "1 2 3 4 5 6 7 8 "
     ]
    }
   ],
   "source": [
    "def mergesort(left,right,arr):\n",
    "    nleft=len(left)\n",
    "    nright=len(right)\n",
    "    i=j=k=0\n",
    "    while(i<nleft)and(j<nright):\n",
    "        if left[i]<right[j]:\n",
    "            arr[k]=left[i]\n",
    "            i=i+1\n",
    "        else:\n",
    "            arr[k]=right[j]\n",
    "            j=j+1\n",
    "        k+=1\n",
    "    while(i<nleft):\n",
    "        arr[k]=left[i]\n",
    "        i=i+1\n",
    "        k=k+1\n",
    "    while(j<nright):\n",
    "        arr[k]=right[j]\n",
    "        j=j+1\n",
    "        k=k+1\n",
    "if __name__=='__main__':\n",
    "    arr=[2,4,6,8,3,5,1,7]\n",
    "    left=[2,4,6,8]\n",
    "    right=[1,3,5,7]\n",
    "    mergesort(left,right,arr)\n",
    "    for i in range(len(arr)):\n",
    "        print(arr[i],end=\" \")\n"
   ]
  },
  {
   "cell_type": "markdown",
   "metadata": {},
   "source": [
    "# RECURSIVE APPROACH :"
   ]
  },
  {
   "cell_type": "code",
   "execution_count": 10,
   "metadata": {},
   "outputs": [
    {
     "name": "stdout",
     "output_type": "stream",
     "text": [
      "1 2 3 4 5 6 7 8 "
     ]
    }
   ],
   "source": [
    "def mergesort(arr):\n",
    "\n",
    "    #length of the array\n",
    "    n=len(arr)\n",
    "\n",
    "    #base condition\n",
    "    if n<2:\n",
    "        return\n",
    "    \n",
    "    #computing mid of the array\n",
    "    mid=n//2\n",
    "\n",
    "    #left and right array\n",
    "    left=arr[:mid]\n",
    "    right=arr[mid:]\n",
    "\n",
    "    #recursive call 2 and 3:\n",
    "    mergesort(left)\n",
    "    mergesort(right)\n",
    "\n",
    "    i=j=k=0\n",
    "\n",
    "    while(i<len(left))and(j<len(right)):\n",
    "        if left[i]<right[j]:\n",
    "            arr[k]=left[i]\n",
    "            i+=1\n",
    "        else:\n",
    "            arr[k]=right[j]\n",
    "            j+=1\n",
    "        k+=1\n",
    "    #if left or right array will conform excaust then,\n",
    "    #add remaining elements to the main arr\n",
    "    while(i<len(left)):\n",
    "        arr[k]=left[i]\n",
    "        i+=1\n",
    "        k+=1\n",
    "    while(j<len(right)):\n",
    "        arr[k]=right[j]\n",
    "        j+=1\n",
    "        k+=1\n",
    "    \n",
    "if __name__=='__main__':\n",
    "    arr=[2,4,6,8,3,5,1,7]\n",
    "    #recursive call 1:\n",
    "    mergesort(arr)\n",
    "    for i in range(len(arr)):\n",
    "        print(arr[i],end=\" \")"
   ]
  },
  {
   "cell_type": "code",
   "execution_count": null,
   "metadata": {},
   "outputs": [],
   "source": []
  }
 ],
 "metadata": {
  "kernelspec": {
   "display_name": "Python 3",
   "language": "python",
   "name": "python3"
  },
  "language_info": {
   "codemirror_mode": {
    "name": "ipython",
    "version": 3
   },
   "file_extension": ".py",
   "mimetype": "text/x-python",
   "name": "python",
   "nbconvert_exporter": "python",
   "pygments_lexer": "ipython3",
   "version": "3.12.1"
  }
 },
 "nbformat": 4,
 "nbformat_minor": 2
}
