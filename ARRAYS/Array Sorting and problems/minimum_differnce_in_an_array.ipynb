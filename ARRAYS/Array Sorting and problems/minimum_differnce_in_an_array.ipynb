{
 "cells": [
  {
   "cell_type": "code",
   "execution_count": 6,
   "metadata": {},
   "outputs": [
    {
     "name": "stdout",
     "output_type": "stream",
     "text": [
      "minimum_differnce is 1\n"
     ]
    }
   ],
   "source": [
    "def minimum_differnce(arr):\n",
    "    #selection sort\n",
    "    min_positive=float('INF')\n",
    "    for i in range(0,len(arr)):\n",
    "        for j in range(i+1,len(arr)):\n",
    "            diff=abs(arr[i]-arr[j])\n",
    "            if diff < min_positive:\n",
    "                min_positive=diff\n",
    "    return min_positive\n",
    "        \n",
    "if __name__=='__main__':\n",
    "    arr=[6,5,3,7,8]\n",
    "    result=minimum_differnce(arr)\n",
    "    print(f'minimum_differnce is {result}')"
   ]
  },
  {
   "cell_type": "code",
   "execution_count": 8,
   "metadata": {},
   "outputs": [
    {
     "name": "stdout",
     "output_type": "stream",
     "text": [
      "minimum_difference is 1\n"
     ]
    }
   ],
   "source": [
    "def minimum_differnce(arr):\n",
    "    #bubble sort\n",
    "    min_positive=float('INF')\n",
    "    n=len(arr)\n",
    "    for i in range(0,n):\n",
    "        for j in range(0,n-i-1):\n",
    "            diff=abs(arr[j]-arr[j+1])\n",
    "            if diff<min_positive:\n",
    "                min_index=diff\n",
    "    return min_positive\n",
    "        \n",
    "if __name__=='__main__':\n",
    "    arr=[6,5,3,7,8]\n",
    "    result=minimum_differnce(arr)\n",
    "    print(f'minimum_difference is {result}')"
   ]
  },
  {
   "cell_type": "code",
   "execution_count": 9,
   "metadata": {},
   "outputs": [
    {
     "name": "stdout",
     "output_type": "stream",
     "text": [
      "minimum_difference is 1\n"
     ]
    }
   ],
   "source": [
    "def minimum_differnce(arr):\n",
    "    #insertion sort\n",
    "\n",
    "    min_positive=float('INF')\n",
    "    n=len(arr)\n",
    "    for i in range(1,n):\n",
    "        value=arr[i]\n",
    "        index=i\n",
    "        while (index>0)and(arr[index-1]>value):\n",
    "            arr[index]=arr[index-1]\n",
    "            index-=1\n",
    "        arr[index]=value\n",
    "\n",
    "    for i in range(1,n):\n",
    "        diff=arr[i]-arr[i-1]\n",
    "        if diff < min_positive:\n",
    "            min_positive=diff\n",
    "\n",
    "    return min_positive\n",
    "        \n",
    "if __name__=='__main__':\n",
    "    arr=[6,5,3,7,8]\n",
    "    result=minimum_differnce(arr)\n",
    "    print(f'minimum_difference is {result}')"
   ]
  },
  {
   "cell_type": "code",
   "execution_count": 14,
   "metadata": {},
   "outputs": [
    {
     "name": "stdout",
     "output_type": "stream",
     "text": [
      "minimum_difference is 1\n"
     ]
    }
   ],
   "source": [
    "def mergesort(arr):\n",
    "    #merge sort\n",
    "\n",
    "    min_positive=float('INF')\n",
    "    n=len(arr)\n",
    "\n",
    "    if n<2:\n",
    "        return\n",
    "\n",
    "    mid=n//2\n",
    "\n",
    "    left=arr[:mid]\n",
    "    right=arr[mid:]\n",
    "\n",
    "    mergesort(left)\n",
    "    mergesort(right)\n",
    "\n",
    "    i=j=k=0\n",
    "\n",
    "    while(i<len(left))and(j<len(right)):\n",
    "        if left[i]<right[j]:\n",
    "            arr[k]=left[i]\n",
    "            i+=1\n",
    "        else:\n",
    "            arr[k]=right[j]\n",
    "            j+=1\n",
    "        k+=1\n",
    "    while(i<len(left)):\n",
    "        arr[k]=left[i]\n",
    "        i+=1\n",
    "        k+=1\n",
    "    while(j<len(right)):\n",
    "        arr[k]=right[j]\n",
    "        j+=1\n",
    "        k+=1\n",
    "def minimum_differnce(arr):\n",
    "\n",
    "    min_positive=float('INF')\n",
    "    mergesort(arr)\n",
    "    for k in range(0,len(arr)-1):\n",
    "        diff=abs(arr[k]-arr[k+1])\n",
    "        if diff<min_positive:\n",
    "            min_positive=diff\n",
    "\n",
    "    return min_positive\n",
    "        \n",
    "if __name__=='__main__':\n",
    "    arr=[6,5,3,7,8]\n",
    "    result=minimum_differnce(arr)\n",
    "    print(f'minimum_difference is {result}')"
   ]
  },
  {
   "cell_type": "code",
   "execution_count": 15,
   "metadata": {},
   "outputs": [
    {
     "name": "stdout",
     "output_type": "stream",
     "text": [
      "Minimum difference is 1\n"
     ]
    }
   ],
   "source": [
    "def quick_sort(arr):\n",
    "    if len(arr) <= 1:\n",
    "        return arr\n",
    "\n",
    "    pivot = arr[len(arr) // 2]\n",
    "    left = [x for x in arr if x < pivot]\n",
    "    middle = [x for x in arr if x == pivot]\n",
    "    right = [x for x in arr if x > pivot]\n",
    "\n",
    "    return quick_sort(left) + middle + quick_sort(right)\n",
    "\n",
    "def minimum_difference(arr):\n",
    "    # Quick sort\n",
    "    min_diff = float('inf')\n",
    "\n",
    "    arr = quick_sort(arr)\n",
    "\n",
    "    for i in range(len(arr) - 1):\n",
    "        diff = abs(arr[i] - arr[i+1])\n",
    "        if diff < min_diff:\n",
    "            min_diff = diff\n",
    "\n",
    "    return min_diff\n",
    "\n",
    "if __name__ == '__main__':\n",
    "    arr = [6, 5, 3, 7, 8]\n",
    "    result = minimum_difference(arr)\n",
    "    print(f'Minimum difference is {result}')\n",
    "\n",
    "\n"
   ]
  },
  {
   "cell_type": "code",
   "execution_count": null,
   "metadata": {},
   "outputs": [],
   "source": []
  }
 ],
 "metadata": {
  "kernelspec": {
   "display_name": "Python 3",
   "language": "python",
   "name": "python3"
  },
  "language_info": {
   "codemirror_mode": {
    "name": "ipython",
    "version": 3
   },
   "file_extension": ".py",
   "mimetype": "text/x-python",
   "name": "python",
   "nbconvert_exporter": "python",
   "pygments_lexer": "ipython3",
   "version": "3.12.1"
  }
 },
 "nbformat": 4,
 "nbformat_minor": 2
}
