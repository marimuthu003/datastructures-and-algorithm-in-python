{
 "cells": [
  {
   "cell_type": "code",
   "execution_count": 3,
   "metadata": {},
   "outputs": [
    {
     "name": "stdout",
     "output_type": "stream",
     "text": [
      "2,3,4,6,7,"
     ]
    }
   ],
   "source": [
    "def insertionsort(arr):\n",
    "    n=len(arr)\n",
    "    for i in range (1,n):\n",
    "        value=arr[i]\n",
    "        hole=i\n",
    "        while(hole>0)and(arr[hole-1]>value):\n",
    "            arr[hole]=arr[hole-1]\n",
    "            hole=hole-1\n",
    "        arr[hole]=value\n",
    "if __name__=='__main__':\n",
    "    arr=[7,4,3,2,6]\n",
    "    insertionsort(arr)\n",
    "    for i in range(len(arr)):\n",
    "        print(arr[i],end=',')"
   ]
  },
  {
   "cell_type": "code",
   "execution_count": null,
   "metadata": {},
   "outputs": [],
   "source": []
  }
 ],
 "metadata": {
  "kernelspec": {
   "display_name": "Python 3",
   "language": "python",
   "name": "python3"
  },
  "language_info": {
   "codemirror_mode": {
    "name": "ipython",
    "version": 3
   },
   "file_extension": ".py",
   "mimetype": "text/x-python",
   "name": "python",
   "nbconvert_exporter": "python",
   "pygments_lexer": "ipython3",
   "version": "3.12.1"
  }
 },
 "nbformat": 4,
 "nbformat_minor": 2
}
