{
 "cells": [
  {
   "cell_type": "markdown",
   "metadata": {},
   "source": [
    "# TWO POINTER TECNIQUE:"
   ]
  },
  {
   "cell_type": "code",
   "execution_count": 8,
   "metadata": {},
   "outputs": [
    {
     "name": "stdout",
     "output_type": "stream",
     "text": [
      "True\n"
     ]
    }
   ],
   "source": [
    "\n",
    "def twopointer(arr,l,val):\n",
    "    i=0\n",
    "    j=l-1\n",
    "    while i<j:\n",
    "        if arr[i]+arr[j]==val:\n",
    "            return True\n",
    "        elif arr[i]+arr[j]<val:\n",
    "            i+=1\n",
    "        else:\n",
    "            j-=1\n",
    "    return False\n",
    "if __name__=='__main__':\n",
    "    arr=[2,3,4,5,6,7,8,9]\n",
    "    val=11\n",
    "    l=len(arr)\n",
    "    print(twopointer(arr,l,val))\n",
    "\n"
   ]
  },
  {
   "cell_type": "markdown",
   "metadata": {},
   "source": [
    "# NAVIE APPROACH:\n"
   ]
  },
  {
   "cell_type": "code",
   "execution_count": 9,
   "metadata": {},
   "outputs": [
    {
     "name": "stdout",
     "output_type": "stream",
     "text": [
      "True\n"
     ]
    }
   ],
   "source": [
    "# Python Program Illustrating Naive Approach to\n",
    "# Find if There is a Pair in A[0..N-1] with Given Sum\n",
    "\n",
    "# Method\n",
    "\n",
    "\n",
    "def isPairSum(A, N, X):\n",
    "\n",
    "\tfor i in range(N):\n",
    "\t\tfor j in range(N):\n",
    "\n",
    "\t\t\t# as equal i and j means same element\n",
    "\t\t\tif(i == j):\n",
    "\t\t\t\tcontinue\n",
    "\n",
    "\t\t\t# pair exists\n",
    "\t\t\tif (A[i] + A[j] == X):\n",
    "\t\t\t\treturn True\n",
    "\n",
    "\t\t\t# as the array is sorted\n",
    "\t\t\tif (A[i] + A[j] > X):\n",
    "\t\t\t\tbreak\n",
    "\n",
    "\t# No pair found with given sum\n",
    "\treturn 0\n",
    "\n",
    "\n",
    "# Driver code\n",
    "arr = [2, 3, 5, 8, 9, 10, 11]\n",
    "val = 17\n",
    "\n",
    "print(isPairSum(arr, len(arr), val))\n",
    "\n",
    "# This code is contributed by maheshwaripiyush9\n"
   ]
  },
  {
   "cell_type": "code",
   "execution_count": 12,
   "metadata": {},
   "outputs": [
    {
     "data": {
      "text/plain": [
       "4"
      ]
     },
     "execution_count": 12,
     "metadata": {},
     "output_type": "execute_result"
    }
   ],
   "source": []
  }
 ],
 "metadata": {
  "kernelspec": {
   "display_name": "Python 3",
   "language": "python",
   "name": "python3"
  },
  "language_info": {
   "codemirror_mode": {
    "name": "ipython",
    "version": 3
   },
   "file_extension": ".py",
   "mimetype": "text/x-python",
   "name": "python",
   "nbconvert_exporter": "python",
   "pygments_lexer": "ipython3",
   "version": "3.12.1"
  }
 },
 "nbformat": 4,
 "nbformat_minor": 2
}
