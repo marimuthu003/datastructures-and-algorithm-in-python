def maxSum(arr, n, k):
    # Initialize result
    max_sum = -maxsize - 1

    # Consider all blocks starting with i.
    for i in range(n - k + 1):
        current_sum = 0
        for j in range(k):
            current_sum += arr[i + j]

        # Update result if required.
        max_sum = max(current_sum, max_sum)
        

    return max_sum

# Driver code
arr = [1, 4, 2, 10, 2, 3, 1, 0, 20]
k = 4
n = len(arr)
print(maxSum(arr, n, k))
