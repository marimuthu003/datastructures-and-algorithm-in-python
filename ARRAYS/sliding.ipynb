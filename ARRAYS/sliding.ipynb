{
 "cells": [
  {
   "cell_type": "code",
   "execution_count": 1,
   "metadata": {},
   "outputs": [
    {
     "name": "stdout",
     "output_type": "stream",
     "text": [
      "24\n"
     ]
    }
   ],
   "source": [
    "from sys import maxsize\n",
    "def maxSum(arr, n, k):\n",
    "    # Initialize result\n",
    "    max_sum = -maxsize - 1\n",
    "\n",
    "    # Consider all blocks starting with i.\n",
    "    for i in range(n - k + 1):\n",
    "        current_sum = 0\n",
    "        for j in range(k):\n",
    "            current_sum += arr[i + j]\n",
    "\n",
    "        # Update result if required.\n",
    "        max_sum = max(current_sum, max_sum)\n",
    "        \n",
    "\n",
    "    return max_sum\n",
    "\n",
    "# Driver code\n",
    "arr = [1, 4, 2, 10, 2, 3, 1, 0, 20]\n",
    "k = 4\n",
    "n = len(arr)\n",
    "print(maxSum(arr, n, k))"
   ]
  },
  {
   "cell_type": "code",
   "execution_count": null,
   "metadata": {},
   "outputs": [],
   "source": []
  }
 ],
 "metadata": {
  "kernelspec": {
   "display_name": "Python 3",
   "language": "python",
   "name": "python3"
  },
  "language_info": {
   "codemirror_mode": {
    "name": "ipython",
    "version": 3
   },
   "file_extension": ".py",
   "mimetype": "text/x-python",
   "name": "python",
   "nbconvert_exporter": "python",
   "pygments_lexer": "ipython3",
   "version": "3.12.1"
  }
 },
 "nbformat": 4,
 "nbformat_minor": 2
}
