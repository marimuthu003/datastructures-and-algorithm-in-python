{
 "cells": [
  {
   "cell_type": "markdown",
   "metadata": {},
   "source": [
    "# SQUARE ROOT OF A NUMBER USING BINARY SEARCH:\n"
   ]
  },
  {
   "cell_type": "markdown",
   "metadata": {},
   "source": [
    "## ROUNDING THE RESULTANT NUMBER "
   ]
  },
  {
   "cell_type": "code",
   "execution_count": 13,
   "metadata": {},
   "outputs": [
    {
     "name": "stdout",
     "output_type": "stream",
     "text": [
      "3.0\n"
     ]
    }
   ],
   "source": [
    "def squareroot(num,ans):\n",
    "    start=0\n",
    "    end=num\n",
    "    while start<=end:\n",
    "        mid=(start+end)/2\n",
    "        square=mid*mid\n",
    "        if square==num:\n",
    "            ans=mid\n",
    "        elif square>=num:\n",
    "            end-=1\n",
    "        else:\n",
    "            start+=1\n",
    "            ans=mid\n",
    "    return ans\n",
    "if __name__=='__main__':\n",
    "    num=11\n",
    "    ans=1\n",
    "    result=squareroot(num,ans)\n",
    "    print(result)"
   ]
  },
  {
   "cell_type": "markdown",
   "metadata": {},
   "source": [
    "## NUMBER WITHOUT ROUNDING:"
   ]
  },
  {
   "cell_type": "code",
   "execution_count": 14,
   "metadata": {},
   "outputs": [
    {
     "name": "stdout",
     "output_type": "stream",
     "text": [
      "3.316624164581299\n"
     ]
    }
   ],
   "source": [
    "def squareroot(num, precision=0.00001):\n",
    "    if num < 0:\n",
    "        raise ValueError(\"Cannot compute square root of a negative number\")\n",
    "    if num == 0 or num == 1:\n",
    "        return num\n",
    "\n",
    "    start = 0\n",
    "    end = num\n",
    "\n",
    "    while True:\n",
    "        mid = (start + end) / 2\n",
    "        square = mid * mid\n",
    "\n",
    "        if abs(square - num) <= precision:\n",
    "            return mid\n",
    "\n",
    "        if square < num:\n",
    "            start = mid\n",
    "        else:\n",
    "            end = mid\n",
    "\n",
    "if __name__ == '__main__':\n",
    "    num = 11\n",
    "    result = squareroot(num)\n",
    "    print(result)\n"
   ]
  },
  {
   "cell_type": "code",
   "execution_count": null,
   "metadata": {},
   "outputs": [],
   "source": []
  }
 ],
 "metadata": {
  "kernelspec": {
   "display_name": "Python 3",
   "language": "python",
   "name": "python3"
  },
  "language_info": {
   "codemirror_mode": {
    "name": "ipython",
    "version": 3
   },
   "file_extension": ".py",
   "mimetype": "text/x-python",
   "name": "python",
   "nbconvert_exporter": "python",
   "pygments_lexer": "ipython3",
   "version": "3.12.1"
  }
 },
 "nbformat": 4,
 "nbformat_minor": 2
}
