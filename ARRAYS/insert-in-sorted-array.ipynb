{
 "cells": [
  {
   "cell_type": "code",
   "execution_count": 1,
   "metadata": {},
   "outputs": [
    {
     "name": "stdout",
     "output_type": "stream",
     "text": [
      "Updated Sorted Array: [1, 2, 3, 4, 5, 6]\n"
     ]
    }
   ],
   "source": [
    "def binary_search_insert(arr, target):\n",
    "    left, right = 0, len(arr) - 1\n",
    "\n",
    "    while left <= right:\n",
    "        mid = left + (right - left) // 2\n",
    "\n",
    "        if arr[mid] == target:\n",
    "            # Element already exists, insert at the current position\n",
    "            arr.insert(mid, target)\n",
    "            return\n",
    "\n",
    "        elif arr[mid] < target:\n",
    "            left = mid + 1\n",
    "\n",
    "        else:\n",
    "            right = mid - 1\n",
    "\n",
    "    # If the element is not found, insert at the correct position\n",
    "    arr.insert(left, target)\n",
    "\n",
    "# Example usage:\n",
    "sorted_array = [1, 2, 4, 5, 6]\n",
    "new_element = 3\n",
    "\n",
    "binary_search_insert(sorted_array, new_element)\n",
    "\n",
    "print(\"Updated Sorted Array:\", sorted_array)\n"
   ]
  },
  {
   "cell_type": "code",
   "execution_count": 3,
   "metadata": {},
   "outputs": [
    {
     "name": "stdout",
     "output_type": "stream",
     "text": [
      "Updated Sorted Array: [1, 2, 4, 5, 6]\n"
     ]
    }
   ],
   "source": [
    "#deletion in sorted array\n",
    "def binary_search_delete(arr, target):\n",
    "    left, right = 0, len(arr) - 1\n",
    "\n",
    "    while left <= right:\n",
    "        mid = left + (right - left) // 2\n",
    "\n",
    "        if arr[mid] == target:\n",
    "            # Element found, delete it\n",
    "            del arr[mid]\n",
    "            return\n",
    "\n",
    "        elif arr[mid] < target:\n",
    "            left = mid + 1\n",
    "\n",
    "        else:\n",
    "            right = mid - 1\n",
    "\n",
    "    # If the element is not found, it doesn't need to be deleted\n",
    "    print(\"Element not found in the array.\")\n",
    "\n",
    "# Example usage:\n",
    "sorted_array = [1, 2, 3, 4, 5, 6]\n",
    "element_to_delete = 3\n",
    "\n",
    "binary_search_delete(sorted_array, element_to_delete)\n",
    "\n",
    "print(\"Updated Sorted Array:\", sorted_array)\n"
   ]
  },
  {
   "cell_type": "code",
   "execution_count": null,
   "metadata": {},
   "outputs": [],
   "source": []
  }
 ],
 "metadata": {
  "kernelspec": {
   "display_name": "Python 3",
   "language": "python",
   "name": "python3"
  },
  "language_info": {
   "codemirror_mode": {
    "name": "ipython",
    "version": 3
   },
   "file_extension": ".py",
   "mimetype": "text/x-python",
   "name": "python",
   "nbconvert_exporter": "python",
   "pygments_lexer": "ipython3",
   "version": "3.12.1"
  }
 },
 "nbformat": 4,
 "nbformat_minor": 2
}
