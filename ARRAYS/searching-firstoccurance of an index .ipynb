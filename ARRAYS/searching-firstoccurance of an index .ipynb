{
 "cells": [
  {
   "cell_type": "markdown",
   "metadata": {},
   "source": [
    "# FIRST OCCURANCE OF AN INDEX OF AN GIVEN ARRAY:\n"
   ]
  },
  {
   "cell_type": "code",
   "execution_count": 6,
   "metadata": {},
   "outputs": [
    {
     "name": "stdout",
     "output_type": "stream",
     "text": [
      "4\n"
     ]
    }
   ],
   "source": [
    "def first(arr,l,r,target):\n",
    "     while l<=r:\n",
    "        mid=(l+r)//2\n",
    "        if arr[mid]==target:\n",
    "            result=mid\n",
    "            r=mid-1\n",
    "        elif arr[mid]<target:\n",
    "            l=mid+1 \n",
    "     return result   \n",
    "if __name__=='__main__':\n",
    "    arr=[1,1,2,2,3,3,4,4,5,5]\n",
    "    l=0\n",
    "    r=len(arr)\n",
    "    target=3\n",
    "    res=first(arr,l,r,target)\n",
    "    print(res)"
   ]
  },
  {
   "cell_type": "code",
   "execution_count": null,
   "metadata": {},
   "outputs": [],
   "source": []
  }
 ],
 "metadata": {
  "kernelspec": {
   "display_name": "Python 3",
   "language": "python",
   "name": "python3"
  },
  "language_info": {
   "codemirror_mode": {
    "name": "ipython",
    "version": 3
   },
   "file_extension": ".py",
   "mimetype": "text/x-python",
   "name": "python",
   "nbconvert_exporter": "python",
   "pygments_lexer": "ipython3",
   "version": "3.12.1"
  }
 },
 "nbformat": 4,
 "nbformat_minor": 2
}
