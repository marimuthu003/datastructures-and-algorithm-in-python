{
 "cells": [
  {
   "cell_type": "markdown",
   "metadata": {},
   "source": [
    "## BRUTE FORCE APPROACH:\n"
   ]
  },
  {
   "cell_type": "code",
   "execution_count": 1,
   "metadata": {},
   "outputs": [
    {
     "name": "stdout",
     "output_type": "stream",
     "text": [
      "(1, 3)\n"
     ]
    }
   ],
   "source": [
    "def twosum(arr,target):\n",
    "    n=len(arr)\n",
    "    for i in range(n):\n",
    "        for j in range(n):\n",
    "            if i==j:\n",
    "                continue\n",
    "            if(arr[i]+arr[j])==target:\n",
    "                return i,j\n",
    "arr=[2,6,5,8,11]\n",
    "target=14\n",
    "print(twosum(arr,target))"
   ]
  },
  {
   "cell_type": "markdown",
   "metadata": {},
   "source": [
    "## BETTER APPROACH"
   ]
  },
  {
   "cell_type": "code",
   "execution_count": 2,
   "metadata": {},
   "outputs": [
    {
     "name": "stdout",
     "output_type": "stream",
     "text": [
      "YES\n"
     ]
    }
   ],
   "source": [
    "def twosum(arr,target):\n",
    "    map={}\n",
    "    for i in range(len(arr)):\n",
    "        num=arr[i]\n",
    "        more_needed=target-num\n",
    "        if more_needed in map:\n",
    "            return \"YES\"\n",
    "        map[num]=i\n",
    "    return \"NO\"\n",
    "arr=[2,6,5,8,11]\n",
    "target=14\n",
    "print(twosum(arr,target))"
   ]
  },
  {
   "cell_type": "code",
   "execution_count": null,
   "metadata": {},
   "outputs": [],
   "source": []
  }
 ],
 "metadata": {
  "kernelspec": {
   "display_name": "Python 3",
   "language": "python",
   "name": "python3"
  },
  "language_info": {
   "codemirror_mode": {
    "name": "ipython",
    "version": 3
   },
   "file_extension": ".py",
   "mimetype": "text/x-python",
   "name": "python",
   "nbconvert_exporter": "python",
   "pygments_lexer": "ipython3",
   "version": "3.12.1"
  }
 },
 "nbformat": 4,
 "nbformat_minor": 2
}
