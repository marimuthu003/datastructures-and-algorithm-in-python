{
 "cells": [
  {
   "cell_type": "code",
   "execution_count": 16,
   "metadata": {},
   "outputs": [
    {
     "name": "stdout",
     "output_type": "stream",
     "text": [
      "[22, 20, 6]\n"
     ]
    }
   ],
   "source": [
    "def leader_array(arr,n):\n",
    "    leader=[]\n",
    "    max=arr[n-1]\n",
    "    leader.append(max)\n",
    "    for i in range(n-2,-1,-1):\n",
    "        if arr[i]>max:\n",
    "            max=arr[i]\n",
    "            leader.insert(0,max)\n",
    "    return leader\n",
    "    \n",
    "if __name__=='__main__':\n",
    "    arr=[10,22,12,20,6]\n",
    "    n=len(arr)\n",
    "    result=leader_array(arr,n)\n",
    "    print(result)"
   ]
  }
 ],
 "metadata": {
  "kernelspec": {
   "display_name": "Python 3",
   "language": "python",
   "name": "python3"
  },
  "language_info": {
   "codemirror_mode": {
    "name": "ipython",
    "version": 3
   },
   "file_extension": ".py",
   "mimetype": "text/x-python",
   "name": "python",
   "nbconvert_exporter": "python",
   "pygments_lexer": "ipython3",
   "version": "3.12.1"
  }
 },
 "nbformat": 4,
 "nbformat_minor": 2
}
