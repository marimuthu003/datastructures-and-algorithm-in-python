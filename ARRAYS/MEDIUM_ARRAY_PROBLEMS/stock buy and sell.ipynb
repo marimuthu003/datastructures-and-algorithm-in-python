{
 "cells": [
  {
   "cell_type": "markdown",
   "metadata": {},
   "source": [
    "## BRUTEFORCE APPROACH"
   ]
  },
  {
   "cell_type": "code",
   "execution_count": 1,
   "metadata": {},
   "outputs": [
    {
     "name": "stdout",
     "output_type": "stream",
     "text": [
      "5\n"
     ]
    }
   ],
   "source": [
    "def stock(arr):\n",
    "    maxpro=0\n",
    "    n=len(arr)\n",
    "    for i in range(n):\n",
    "        for j in range(i+1,n):\n",
    "            if arr[j]>arr[i]:\n",
    "                maxpro=max(maxpro,arr[j]-arr[i])\n",
    "    return maxpro\n",
    "if __name__==\"__main__\":\n",
    "    arr=[7,1,5,4,6,3]\n",
    "    print(stock(arr))"
   ]
  },
  {
   "cell_type": "markdown",
   "metadata": {},
   "source": [
    "## OPTIMAL APPROACH"
   ]
  },
  {
   "cell_type": "code",
   "execution_count": 6,
   "metadata": {},
   "outputs": [
    {
     "name": "stdout",
     "output_type": "stream",
     "text": [
      "5\n"
     ]
    }
   ],
   "source": [
    "def stock(arr):\n",
    "    minprice=float('inf')\n",
    "    maxpro=0\n",
    "    for i in range(len(arr)):\n",
    "        minprice=min(minprice,arr[i])\n",
    "        maxpro=max(maxpro,arr[i]-minprice)\n",
    "    return maxpro\n",
    "if __name__==\"__main__\":\n",
    "    arr=[7,1,5,4,6,3]\n",
    "    print(stock(arr))"
   ]
  },
  {
   "cell_type": "code",
   "execution_count": null,
   "metadata": {},
   "outputs": [],
   "source": []
  }
 ],
 "metadata": {
  "kernelspec": {
   "display_name": "Python 3",
   "language": "python",
   "name": "python3"
  },
  "language_info": {
   "codemirror_mode": {
    "name": "ipython",
    "version": 3
   },
   "file_extension": ".py",
   "mimetype": "text/x-python",
   "name": "python",
   "nbconvert_exporter": "python",
   "pygments_lexer": "ipython3",
   "version": "3.12.1"
  }
 },
 "nbformat": 4,
 "nbformat_minor": 2
}
